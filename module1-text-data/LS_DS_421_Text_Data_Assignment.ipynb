{
  "nbformat": 4,
  "nbformat_minor": 0,
  "metadata": {
    "colab": {
      "name": "LS_DS_421_Text_Data_Assignment.ipynb",
      "version": "0.3.2",
      "provenance": [],
      "collapsed_sections": []
    },
    "language_info": {
      "codemirror_mode": {
        "name": "ipython",
        "version": 3
      },
      "file_extension": ".py",
      "mimetype": "text/x-python",
      "name": "python",
      "nbconvert_exporter": "python",
      "pygments_lexer": "ipython3",
      "version": "3.7.3"
    },
    "kernelspec": {
      "display_name": "Python 3",
      "language": "python",
      "name": "python3"
    }
  },
  "cells": [
    {
      "cell_type": "markdown",
      "metadata": {
        "id": "itlX_cwQZk6G",
        "colab_type": "text"
      },
      "source": [
        "<img align=\"left\" src=\"https://lever-client-logos.s3.amazonaws.com/864372b1-534c-480e-acd5-9711f850815c-1524247202159.png\" width=200>\n",
        "<br></br>\n",
        "<br></br>\n",
        "\n",
        "# Natural Language Processing (NLP)\n",
        "## *Data Science Unit 4 Sprint 2 Assignment 1*\n",
        "\n",
        "Analyze a corpus of text using text visualization of token frequency. Try cleaning the data as much as possible. Try the following techniques: \n",
        "- Stemming\n",
        "- Lemmatization\n",
        "- Custom stopword removal\n",
        "- Using frequency based stopwrod removal\n",
        "\n",
        "You are free to use any dataset you are interested in. Kaggle is a great place to start. Feel free to sample the data if the dataset is too large to hanlde in memory. "
      ]
    },
    {
      "cell_type": "code",
      "metadata": {
        "id": "ri0qqCM_Zk6M",
        "colab_type": "code",
        "colab": {}
      },
      "source": [
        "import requests\n",
        "from bs4 import BeautifulSoup"
      ],
      "execution_count": 0,
      "outputs": []
    },
    {
      "cell_type": "code",
      "metadata": {
        "id": "9pGETROQuFlR",
        "colab_type": "code",
        "colab": {}
      },
      "source": [
        "!unzip blogs.zip"
      ],
      "execution_count": 0,
      "outputs": []
    },
    {
      "cell_type": "code",
      "metadata": {
        "id": "ZeEVIX0Q0jp1",
        "colab_type": "code",
        "colab": {}
      },
      "source": [
        "import lxml"
      ],
      "execution_count": 0,
      "outputs": []
    },
    {
      "cell_type": "code",
      "metadata": {
        "id": "D33Z63ES1V_u",
        "colab_type": "code",
        "colab": {
          "base_uri": "https://localhost:8080/",
          "height": 35
        },
        "outputId": "2269f410-0897-4dea-ca1d-4a075e40cab9"
      },
      "source": [
        "import os\n",
        "\n",
        "cwd = os.getcwd()  # Get the current working directory (cwd)\n",
        "files = os.listdir(cwd)  # Get all the files in that directory\n",
        "print(\"Files in '%s': %s\" % (cwd, files))"
      ],
      "execution_count": 15,
      "outputs": [
        {
          "output_type": "stream",
          "text": [
            "Files in '/content': ['.config', '4337650.male.17.indUnk.Leo.xml', 'blogs.zip', 'blogs', 'sample_data']\n"
          ],
          "name": "stdout"
        }
      ]
    },
    {
      "cell_type": "code",
      "metadata": {
        "id": "LrJLVi1H2Tc2",
        "colab_type": "code",
        "colab": {}
      },
      "source": [
        "infile = open('4337650.male.17.indUnk.Leo.xml','r')"
      ],
      "execution_count": 0,
      "outputs": []
    },
    {
      "cell_type": "code",
      "metadata": {
        "id": "qoZ-hpWay9Vi",
        "colab_type": "code",
        "colab": {}
      },
      "source": [
        "soup = BeautifulSoup(infile,'xml')"
      ],
      "execution_count": 0,
      "outputs": []
    },
    {
      "cell_type": "code",
      "metadata": {
        "id": "qukDksOm0oI9",
        "colab_type": "code",
        "colab": {
          "base_uri": "https://localhost:8080/",
          "height": 202
        },
        "outputId": "cced171c-794f-4832-c65f-9d69d22284f7"
      },
      "source": [
        "print(soup.prettify())"
      ],
      "execution_count": 23,
      "outputs": [
        {
          "output_type": "stream",
          "text": [
            "<?xml version=\"1.0\" encoding=\"utf-8\"?>\n",
            "<Blog>\n",
            " <date>\n",
            "  24,August,2004\n",
            " </date>\n",
            " <post>\n",
            "  Enjoy...   Never ask what, ask why.   Bush, why is he in Office?  Why did Bush receive presidency? The total of votes from American Citizens were in favor of Al Gore. Yet, in a miraculous turn of events, Bush was pulled into presidency. Bush’s father was the president also. Now, what can you say the odds are, of a man, becoming president, even though his father was also a president. What are the odds, that the person with the same name, of all the families, that family was lucky enough. Of all the times, this time and era was the one. With the Twin Towers, and the war with Iraq, and Iraq’s possibility of getting nuclear weapons. (Not newk-you-lar)  Now, lets calculate these odds right now. President George Bush, father is now an ex president, fighting in the same war, got presidency even though popular vote swayed the other direction, and all the other mitigating factors. George, W. Bush. Was placed into office. Why, is the question.  In order to find out why he was put into office, all that does it take a quick glance at what he has done in office so far. One, revealed the French and their affiliation with Iraq, (Bad thing to do.) Screwed up our UN agreements, allowed the good `Ol patriot act that has helped convict…. Nobody knows.. If any at all. He has created a war with not only the Taliban, but the Iraqi regime, he has captured Saddam. And he has used some of our reserve Oil, he has stopped focusing on the homeland so much, made it harder for children to graduate, gotten several of our soldiers killed and used up our marines, Army, Army reserve, and Navy.  Bush, has used up endless amounts of resources, and created a soar in gas prices. What bush is doing may be good, but it may also be bad. Lets take all of this and lay it out in pieces.  1. French Affiliation with Iraq. He put that out into the open. Bad mistake, now France knows we don’t trust them, now they’re going to be extra careful and not screw up. Just wait and see, France will try to do something here in the near future, something discreet, but it will get let out into the open. (I’ll go over what that might be later.)  2. Bush screwed up our UN agreements and led the United States to believe in going to war with Iraq. What does that make the United states look like? Remember people, nobody cares about the government, if the president makes a decision, the rest of the world calls it “America’s” decision. Now we’re all the police of the world.  3. The patriot act, what has it done? Nothing, nothing at all it seems like. Wait no, it allowed the government to search our computers, our files, and our personal lives. I have nothing to hide, but I don’t believe that the government should have access like that.  4. The war on Iraq/Taliban/Possibly Iran… Either Bush hasn’t heard of Divide and conquer, or he’s just an idiot. And I’ll go over what I think will happen with all of these when I’m done listing it.  5. He captured Saddam. You know that thing you do when you’re overwhelmed? When you brush your hair back with your hands? I’m doing that right now.  6. He used some of our reserve oil. It’s called reserve for a reason. RESERVE.  7. He’s not paying too much attention to the homeland. You know the homeland? Where things actually matter?  8. He made it harder for kids to graduate. No child left behind. Well, what’s he going to do about all the 2.0 children that are going to be left behind?  9. What exactly, are our forces doing in Iraq? They’re not doing anything. They’re getting killed. Sure they’re killing back but, we aren’t supposed to lose a single man.  Bush, is doing some huge things here, some pretty huge things that are not getting attention.  I’ll start with French’s Affiliation with Iraq. France, Russia, and Germany, three countries that didn’t want to go to war with Iraq… we found out why, they were in direct trading relations with Iraq… Iraq, was not trying to keep harmless trading relations. Saddam was going to retaliate, get his economy rolling, the Russians were found making trades of Night vision goggles to Iraq. Why is that? Why would you need Night vision? Why would you need to secretly break the trading laws and why was the country under such investigation? It’s because he had something to hide, and it wasn’t bombs. If He had bombs, he’d say something, he’d make threats and accusations that the US/UN/anybody he wants to ruin, is doing something to harm the world. He was preparing for something  The U.S. thought they had weapons of mass destruction (WMD‘s) we were either wrong, or we were right and they are hidden. If he didn’t have them, that means that he was smart, and he wasn’t going to blow his cover with Germany France and Russia just yet, he’d be able to get some money pulled in. But, if he does have them, and they are just hidden, could you take a guess as to why they’re not being used? Because he was waiting for something. If he wasn’t waiting for something, then he’d be using them. What is that something though? Lets take a look at what Saddam had, and what he was getting.   A. He was trying to boost his economy, (So money.)\n",
            " </post>\n",
            "</Blog>\n"
          ],
          "name": "stdout"
        }
      ]
    },
    {
      "cell_type": "code",
      "metadata": {
        "id": "h_yJWjLG2-dO",
        "colab_type": "code",
        "colab": {}
      },
      "source": [
        "import os\n",
        "path='/content/blogs'\n",
        "\n",
        "for filename in os.listdir(path):\n",
        "  if filename.endswith('.xml'):\n",
        "    fullpath = os.path.join(path,filename)\n",
        "    soup = BeautifulSoup(open(fullpath, encoding=\"ISO-8859-1\"),'lxml')"
      ],
      "execution_count": 0,
      "outputs": []
    },
    {
      "cell_type": "code",
      "metadata": {
        "id": "MFzzge6N5IE8",
        "colab_type": "code",
        "colab": {}
      },
      "source": [
        "dates = soup.find_all('date')\n",
        "dates2=[]\n",
        "for date in dates:\n",
        "  dates2.append(date.get_text())\n",
        "posts = soup.find_all('post')\n",
        "posts2=[]\n",
        "for post in posts:\n",
        "  posts2.append(post.get_text())\n"
      ],
      "execution_count": 0,
      "outputs": []
    },
    {
      "cell_type": "code",
      "metadata": {
        "id": "eUVa_axS6_ve",
        "colab_type": "code",
        "colab": {}
      },
      "source": [
        "import pandas as pd\n",
        "df = pd.DataFrame({'Date':dates2,'Post':posts2})"
      ],
      "execution_count": 0,
      "outputs": []
    },
    {
      "cell_type": "code",
      "metadata": {
        "id": "-PXUUWdX_N2g",
        "colab_type": "code",
        "colab": {}
      },
      "source": [
        "import spacy\n",
        "from spacy.tokenizer import Tokenizer\n",
        "\n",
        "nlp=spacy.load('en_core_web_sm')\n",
        "tokenizer=Tokenizer(nlp.vocab)"
      ],
      "execution_count": 0,
      "outputs": []
    },
    {
      "cell_type": "code",
      "metadata": {
        "id": "VqUMrWv5AAUB",
        "colab_type": "code",
        "colab": {}
      },
      "source": [
        "ignore = ['<','>','=','\\\\','|','||','/','\\n',' ']\n",
        "tokens=[]\n",
        "\n",
        "for row in tokenizer.pipe(df['Post'],batch_size=500):\n",
        "  row_tokens=[]\n",
        "  for token in row:\n",
        "    if (token.is_stop==False) and (token.is_punct==False):\n",
        "      word = True\n",
        "      for char in ignore:\n",
        "        if char in token.text:\n",
        "          word = False\n",
        "          break\n",
        "      if word:\n",
        "        row_tokens.append(token.text.lower())\n",
        "  tokens.append(row_tokens)\n",
        "  \n",
        "df['tokens']=tokens"
      ],
      "execution_count": 0,
      "outputs": []
    },
    {
      "cell_type": "code",
      "metadata": {
        "id": "JCyvzaFLAed1",
        "colab_type": "code",
        "colab": {
          "base_uri": "https://localhost:8080/",
          "height": 348
        },
        "outputId": "c88288af-077c-42d5-a6d8-67a993472455"
      },
      "source": [
        "df.tokens"
      ],
      "execution_count": 71,
      "outputs": [
        {
          "output_type": "execute_result",
          "data": {
            "text/plain": [
              "0     [welcome,, flesh, flesh, blood, blood., blog, ...\n",
              "1     [mikeee...i, downloaded, 'hello', picture, thi...\n",
              "2     [what's, hear, honey, nut, chewies, getting, p...\n",
              "3     [kidding., i'm, honored, join, fine, assembly,...\n",
              "4     [father, children,, richly, blessed., mean,, h...\n",
              "5     [today, day, school, :p, dreaded, waking, 5:30...\n",
              "6     [picture, brandon!, isn't, sooo, cute, hehe, r...\n",
              "7     [week, trek, columbus,, georgia, graduate, cou...\n",
              "8     [hi, everybody!!, finally, joined., mike, yay....\n",
              "9     [today, woke, 1:30, pm, lol., didn't, bed, 2am...\n",
              "10    [wow, it's, late., lately, i've, staying, wee,...\n",
              "11    [hellooo, i'm, glad, finally, 'blogspot', fami...\n",
              "12    [mom,, know...you, don't, introduce, here., po...\n",
              "13    [well,, failed, attempts, toil, trouble,, look...\n",
              "14    [wanted, let, know, i'm, going, getting, wisdo...\n",
              "15    [so,, what's, going, jonze's, tn, weekend?, ma...\n",
              "16    [hi,, everyone., dana, attended, wedding, week...\n",
              "Name: tokens, dtype: object"
            ]
          },
          "metadata": {
            "tags": []
          },
          "execution_count": 71
        }
      ]
    },
    {
      "cell_type": "code",
      "metadata": {
        "id": "ikyLlkliKNeT",
        "colab_type": "code",
        "colab": {}
      },
      "source": [
        "def count(docs):\n",
        "\n",
        "        word_counts = Counter()\n",
        "        appears_in = Counter()\n",
        "        \n",
        "        total_docs = len(docs)\n",
        "\n",
        "        for doc in docs:\n",
        "            word_counts.update(doc)\n",
        "            appears_in.update(set(doc))\n",
        "\n",
        "        temp = zip(word_counts.keys(), word_counts.values())\n",
        "        \n",
        "        wc = pd.DataFrame(temp, columns = ['word', 'count'])\n",
        "\n",
        "        wc['rank'] = wc['count'].rank(method='first', ascending=False)\n",
        "        total = wc['count'].sum()\n",
        "\n",
        "        wc['pct_total'] = wc['count'].apply(lambda x: x / total)\n",
        "        \n",
        "        wc = wc.sort_values(by='rank')\n",
        "        wc['cul_pct_total'] = wc['pct_total'].cumsum()\n",
        "\n",
        "        t2 = zip(appears_in.keys(), appears_in.values())\n",
        "        ac = pd.DataFrame(t2, columns=['word', 'appears_in'])\n",
        "        wc = ac.merge(wc, on='word')\n",
        "\n",
        "        wc['appears_in_pct'] = wc['appears_in'].apply(lambda x: x / total_docs)\n",
        "        \n",
        "        return wc.sort_values(by='rank')"
      ],
      "execution_count": 0,
      "outputs": []
    },
    {
      "cell_type": "code",
      "metadata": {
        "id": "m0dmDBnGKPY9",
        "colab_type": "code",
        "colab": {
          "base_uri": "https://localhost:8080/",
          "height": 110
        },
        "outputId": "0b6f1fc4-55bf-4ff6-d057-15f21f71ad23"
      },
      "source": [
        "from collections import Counter\n",
        "!pip install squarify"
      ],
      "execution_count": 61,
      "outputs": [
        {
          "output_type": "stream",
          "text": [
            "Collecting squarify\n",
            "  Downloading https://files.pythonhosted.org/packages/0b/2b/2e77c35326efec19819cd1d729540d4d235e6c2a3f37658288a363a67da5/squarify-0.4.3-py3-none-any.whl\n",
            "Installing collected packages: squarify\n",
            "Successfully installed squarify-0.4.3\n"
          ],
          "name": "stdout"
        }
      ]
    },
    {
      "cell_type": "code",
      "metadata": {
        "id": "ChND5jjTK1PM",
        "colab_type": "code",
        "colab": {}
      },
      "source": [
        "import matplotlib.pyplot as plt"
      ],
      "execution_count": 0,
      "outputs": []
    },
    {
      "cell_type": "code",
      "metadata": {
        "id": "gVHg63O_Je7O",
        "colab_type": "code",
        "colab": {
          "base_uri": "https://localhost:8080/",
          "height": 269
        },
        "outputId": "550d1e2f-bc37-405f-c9ce-8f452aa93630"
      },
      "source": [
        "wc = count(df['tokens'])\n",
        "wc_top20= wc[wc['rank'] <=20]\n",
        "\n",
        "import squarify\n",
        "squarify.plot(sizes=wc_top20['pct_total'],label=wc_top20['word'],alpha=.8)\n",
        "plt.axis('off')\n",
        "plt.show()"
      ],
      "execution_count": 73,
      "outputs": [
        {
          "output_type": "display_data",
          "data": {
            "image/png": "[encoded data removed]",
            "text/plain": [
              "<Figure size 432x288 with 1 Axes>"
            ]
          },
          "metadata": {
            "tags": []
          }
        }
      ]
    },
    {
      "cell_type": "code",
      "metadata": {
        "id": "2AIgXNMhL35V",
        "colab_type": "code",
        "colab": {
          "base_uri": "https://localhost:8080/",
          "height": 677
        },
        "outputId": "7055bd69-627a-48e8-a157-75ed7d266a6a"
      },
      "source": [
        "wc.head(20)"
      ],
      "execution_count": 75,
      "outputs": [
        {
          "output_type": "execute_result",
          "data": {
            "text/html": [
              "<div>\n",
              "<style scoped>\n",
              "    .dataframe tbody tr th:only-of-type {\n",
              "        vertical-align: middle;\n",
              "    }\n",
              "\n",
              "    .dataframe tbody tr th {\n",
              "        vertical-align: top;\n",
              "    }\n",
              "\n",
              "    .dataframe thead th {\n",
              "        text-align: right;\n",
              "    }\n",
              "</style>\n",
              "<table border=\"1\" class=\"dataframe\">\n",
              "  <thead>\n",
              "    <tr style=\"text-align: right;\">\n",
              "      <th></th>\n",
              "      <th>word</th>\n",
              "      <th>appears_in</th>\n",
              "      <th>count</th>\n",
              "      <th>rank</th>\n",
              "      <th>pct_total</th>\n",
              "      <th>cul_pct_total</th>\n",
              "      <th>appears_in_pct</th>\n",
              "    </tr>\n",
              "  </thead>\n",
              "  <tbody>\n",
              "    <tr>\n",
              "      <th>62</th>\n",
              "      <td>i'm</td>\n",
              "      <td>11</td>\n",
              "      <td>20</td>\n",
              "      <td>1.0</td>\n",
              "      <td>0.020141</td>\n",
              "      <td>0.020141</td>\n",
              "      <td>0.647059</td>\n",
              "    </tr>\n",
              "    <tr>\n",
              "      <th>20</th>\n",
              "      <td>going</td>\n",
              "      <td>9</td>\n",
              "      <td>11</td>\n",
              "      <td>2.0</td>\n",
              "      <td>0.011078</td>\n",
              "      <td>0.031219</td>\n",
              "      <td>0.529412</td>\n",
              "    </tr>\n",
              "    <tr>\n",
              "      <th>13</th>\n",
              "      <td>know</td>\n",
              "      <td>5</td>\n",
              "      <td>7</td>\n",
              "      <td>3.0</td>\n",
              "      <td>0.007049</td>\n",
              "      <td>0.038268</td>\n",
              "      <td>0.294118</td>\n",
              "    </tr>\n",
              "    <tr>\n",
              "      <th>83</th>\n",
              "      <td>didn't</td>\n",
              "      <td>5</td>\n",
              "      <td>6</td>\n",
              "      <td>4.0</td>\n",
              "      <td>0.006042</td>\n",
              "      <td>0.044310</td>\n",
              "      <td>0.294118</td>\n",
              "    </tr>\n",
              "    <tr>\n",
              "      <th>138</th>\n",
              "      <td>day</td>\n",
              "      <td>3</td>\n",
              "      <td>6</td>\n",
              "      <td>5.0</td>\n",
              "      <td>0.006042</td>\n",
              "      <td>0.050352</td>\n",
              "      <td>0.176471</td>\n",
              "    </tr>\n",
              "    <tr>\n",
              "      <th>272</th>\n",
              "      <td>hours</td>\n",
              "      <td>4</td>\n",
              "      <td>6</td>\n",
              "      <td>6.0</td>\n",
              "      <td>0.006042</td>\n",
              "      <td>0.056395</td>\n",
              "      <td>0.235294</td>\n",
              "    </tr>\n",
              "    <tr>\n",
              "      <th>116</th>\n",
              "      <td>father</td>\n",
              "      <td>1</td>\n",
              "      <td>5</td>\n",
              "      <td>7.0</td>\n",
              "      <td>0.005035</td>\n",
              "      <td>0.061430</td>\n",
              "      <td>0.058824</td>\n",
              "    </tr>\n",
              "    <tr>\n",
              "      <th>260</th>\n",
              "      <td>today</td>\n",
              "      <td>4</td>\n",
              "      <td>5</td>\n",
              "      <td>8.0</td>\n",
              "      <td>0.005035</td>\n",
              "      <td>0.066465</td>\n",
              "      <td>0.235294</td>\n",
              "    </tr>\n",
              "    <tr>\n",
              "      <th>214</th>\n",
              "      <td>spent</td>\n",
              "      <td>3</td>\n",
              "      <td>5</td>\n",
              "      <td>9.0</td>\n",
              "      <td>0.005035</td>\n",
              "      <td>0.071501</td>\n",
              "      <td>0.176471</td>\n",
              "    </tr>\n",
              "    <tr>\n",
              "      <th>245</th>\n",
              "      <td>got</td>\n",
              "      <td>4</td>\n",
              "      <td>5</td>\n",
              "      <td>10.0</td>\n",
              "      <td>0.005035</td>\n",
              "      <td>0.076536</td>\n",
              "      <td>0.235294</td>\n",
              "    </tr>\n",
              "    <tr>\n",
              "      <th>255</th>\n",
              "      <td>time</td>\n",
              "      <td>4</td>\n",
              "      <td>5</td>\n",
              "      <td>11.0</td>\n",
              "      <td>0.005035</td>\n",
              "      <td>0.081571</td>\n",
              "      <td>0.235294</td>\n",
              "    </tr>\n",
              "    <tr>\n",
              "      <th>239</th>\n",
              "      <td>love</td>\n",
              "      <td>4</td>\n",
              "      <td>5</td>\n",
              "      <td>12.0</td>\n",
              "      <td>0.005035</td>\n",
              "      <td>0.086606</td>\n",
              "      <td>0.235294</td>\n",
              "    </tr>\n",
              "    <tr>\n",
              "      <th>17</th>\n",
              "      <td>blog</td>\n",
              "      <td>4</td>\n",
              "      <td>4</td>\n",
              "      <td>13.0</td>\n",
              "      <td>0.004028</td>\n",
              "      <td>0.090634</td>\n",
              "      <td>0.235294</td>\n",
              "    </tr>\n",
              "    <tr>\n",
              "      <th>0</th>\n",
              "      <td>let</td>\n",
              "      <td>4</td>\n",
              "      <td>4</td>\n",
              "      <td>14.0</td>\n",
              "      <td>0.004028</td>\n",
              "      <td>0.094663</td>\n",
              "      <td>0.235294</td>\n",
              "    </tr>\n",
              "    <tr>\n",
              "      <th>35</th>\n",
              "      <td>what's</td>\n",
              "      <td>3</td>\n",
              "      <td>4</td>\n",
              "      <td>15.0</td>\n",
              "      <td>0.004028</td>\n",
              "      <td>0.098691</td>\n",
              "      <td>0.176471</td>\n",
              "    </tr>\n",
              "    <tr>\n",
              "      <th>2</th>\n",
              "      <td>join</td>\n",
              "      <td>3</td>\n",
              "      <td>4</td>\n",
              "      <td>16.0</td>\n",
              "      <td>0.004028</td>\n",
              "      <td>0.102719</td>\n",
              "      <td>0.176471</td>\n",
              "    </tr>\n",
              "    <tr>\n",
              "      <th>68</th>\n",
              "      <td>picture</td>\n",
              "      <td>2</td>\n",
              "      <td>4</td>\n",
              "      <td>17.0</td>\n",
              "      <td>0.004028</td>\n",
              "      <td>0.106747</td>\n",
              "      <td>0.117647</td>\n",
              "    </tr>\n",
              "    <tr>\n",
              "      <th>66</th>\n",
              "      <td>i've</td>\n",
              "      <td>4</td>\n",
              "      <td>4</td>\n",
              "      <td>18.0</td>\n",
              "      <td>0.004028</td>\n",
              "      <td>0.110775</td>\n",
              "      <td>0.235294</td>\n",
              "    </tr>\n",
              "    <tr>\n",
              "      <th>53</th>\n",
              "      <td>dad</td>\n",
              "      <td>4</td>\n",
              "      <td>4</td>\n",
              "      <td>19.0</td>\n",
              "      <td>0.004028</td>\n",
              "      <td>0.114804</td>\n",
              "      <td>0.235294</td>\n",
              "    </tr>\n",
              "    <tr>\n",
              "      <th>166</th>\n",
              "      <td>good</td>\n",
              "      <td>2</td>\n",
              "      <td>4</td>\n",
              "      <td>20.0</td>\n",
              "      <td>0.004028</td>\n",
              "      <td>0.118832</td>\n",
              "      <td>0.117647</td>\n",
              "    </tr>\n",
              "  </tbody>\n",
              "</table>\n",
              "</div>"
            ],
            "text/plain": [
              "        word  appears_in  count  rank  pct_total  cul_pct_total  appears_in_pct\n",
              "62       i'm          11     20   1.0   0.020141       0.020141        0.647059\n",
              "20     going           9     11   2.0   0.011078       0.031219        0.529412\n",
              "13      know           5      7   3.0   0.007049       0.038268        0.294118\n",
              "83    didn't           5      6   4.0   0.006042       0.044310        0.294118\n",
              "138      day           3      6   5.0   0.006042       0.050352        0.176471\n",
              "272    hours           4      6   6.0   0.006042       0.056395        0.235294\n",
              "116   father           1      5   7.0   0.005035       0.061430        0.058824\n",
              "260    today           4      5   8.0   0.005035       0.066465        0.235294\n",
              "214    spent           3      5   9.0   0.005035       0.071501        0.176471\n",
              "245      got           4      5  10.0   0.005035       0.076536        0.235294\n",
              "255     time           4      5  11.0   0.005035       0.081571        0.235294\n",
              "239     love           4      5  12.0   0.005035       0.086606        0.235294\n",
              "17      blog           4      4  13.0   0.004028       0.090634        0.235294\n",
              "0        let           4      4  14.0   0.004028       0.094663        0.235294\n",
              "35    what's           3      4  15.0   0.004028       0.098691        0.176471\n",
              "2       join           3      4  16.0   0.004028       0.102719        0.176471\n",
              "68   picture           2      4  17.0   0.004028       0.106747        0.117647\n",
              "66      i've           4      4  18.0   0.004028       0.110775        0.235294\n",
              "53       dad           4      4  19.0   0.004028       0.114804        0.235294\n",
              "166     good           2      4  20.0   0.004028       0.118832        0.117647"
            ]
          },
          "metadata": {
            "tags": []
          },
          "execution_count": 75
        }
      ]
    },
    {
      "cell_type": "code",
      "metadata": {
        "id": "KZuN5QI5NTlf",
        "colab_type": "code",
        "colab": {}
      },
      "source": [
        "stop_words3=nlp.Defaults.stop_words.union(['blog',\"i'm\",\"I'm\",\"$i'm\",'i\\'m','I\\'m'])\n",
        "stop_words3\n",
        "#I tried double quotes and I've tried escaping the single quote but i'm is still rank one."
      ],
      "execution_count": 0,
      "outputs": []
    },
    {
      "cell_type": "code",
      "metadata": {
        "id": "kJMxnIFTO_XO",
        "colab_type": "code",
        "colab": {}
      },
      "source": [
        "ignore = ['<','>','=','\\\\','|','||','/','\\n',' ']\n",
        "tokens=[]\n",
        "\n",
        "for row in tokenizer.pipe(df['Post'],batch_size=500):\n",
        "  row_tokens=[]\n",
        "  for token in row:\n",
        "    if (token.is_stop==False) and (token.is_punct==False) and (token.text not in stop_words3):\n",
        "      word = True\n",
        "      for char in ignore:\n",
        "        if char in token.text:\n",
        "          word = False\n",
        "          break\n",
        "      if word:\n",
        "        row_tokens.append(token.text.lower())\n",
        "  tokens.append(row_tokens)\n",
        "  \n",
        "df['tokens']=tokens\n",
        "wc=count(df['tokens'])\n",
        "wc.head()"
      ],
      "execution_count": 0,
      "outputs": []
    },
    {
      "cell_type": "markdown",
      "metadata": {
        "colab_type": "text",
        "id": "1dCb1q8XphcP",
        "toc-hr-collapsed": true
      },
      "source": [
        "## Stretch Goals\n",
        "\n",
        "* Write a web scraper that can scrape \"Data Scientist\" job listings from indeed.com.\n",
        "* Look ahead to some of the topics from later this week:\n",
        " - Part of Speech Tagging\n",
        " - Named Entity Recognition\n",
        " - Document Classification\n",
        "* Try a different visualization techniques\n",
        "* Automate the process of retriving job listings. ;)"
      ]
    },
    {
      "cell_type": "code",
      "metadata": {
        "id": "c35k88zouCXb",
        "colab_type": "code",
        "colab": {}
      },
      "source": [
        ""
      ],
      "execution_count": 0,
      "outputs": []
    }
  ]
}